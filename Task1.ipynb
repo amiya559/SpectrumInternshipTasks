{
  "nbformat": 4,
  "nbformat_minor": 0,
  "metadata": {
    "colab": {
      "name": "Task1.ipynb",
      "provenance": [],
      "collapsed_sections": [],
      "authorship_tag": "ABX9TyMkER8HWbOowyXXkysnc02s",
      "include_colab_link": true
    },
    "kernelspec": {
      "name": "python3",
      "display_name": "Python 3"
    }
  },
  "cells": [
    {
      "cell_type": "markdown",
      "metadata": {
        "id": "view-in-github",
        "colab_type": "text"
      },
      "source": [
        "<a href=\"https://colab.research.google.com/github/amiya559/SpectrumInternshipTasks/blob/master/Task1.ipynb\" target=\"_parent\"><img src=\"https://colab.research.google.com/assets/colab-badge.svg\" alt=\"Open In Colab\"/></a>"
      ]
    },
    {
      "cell_type": "code",
      "metadata": {
        "id": "9OFX082yuZje",
        "colab_type": "code",
        "colab": {}
      },
      "source": [
        "\"\"\"\n",
        "This project is a solution to task1.\n",
        "Created on: 25-04-2020\n",
        "Created by: Amiya Ranjan Rout\n",
        "\"\"\"\n",
        "\n",
        "# Importing required library\n",
        "import numpy as np\n",
        "import matplotlib.pyplot as plt"
      ],
      "execution_count": 0,
      "outputs": []
    },
    {
      "cell_type": "code",
      "metadata": {
        "id": "GWXXzoofz5ix",
        "colab_type": "code",
        "colab": {}
      },
      "source": [
        "# Given data set\n",
        "\n",
        "scores = {\"Day 1\": 100, \"Day 2\": 108, \"Day 3\":112, \"Day 4\":115, \"Day 5\":150,\n",
        "          \"Day 6\":178, \"Day 7\": 143, \"Day 8\": 132, \"Day 9\":190, \"Day 10\": 235,\n",
        "          \"Day 11\":253, \"Day 12\": 298, \"Day 13\": 328, \"Day 14\":390, \"Day 15\": 257,\n",
        "          \"Day 16\":288, \"Day 17\": 393, \"Day 18\": 425, \"Day 19\":458, \"Day 20\": 450,\n",
        "          \"Day 21\":473, \"Day 22\": 333, \"Day 23\": 452, \"Day 24\":490, \"Day 25\": 495,\n",
        "          \"Day 26\":488, \"Day 27\": 543, \"Day 28\": 532, \"Day 29\":590, \"Day 30\": 605}\n",
        "\n"
      ],
      "execution_count": 0,
      "outputs": []
    },
    {
      "cell_type": "code",
      "metadata": {
        "id": "Fo63B3319aC2",
        "colab_type": "code",
        "colab": {}
      },
      "source": [
        "# Task 1.1\n",
        "\n",
        "Scores = list(scores.values())\n",
        "#print(Scores)"
      ],
      "execution_count": 0,
      "outputs": []
    },
    {
      "cell_type": "code",
      "metadata": {
        "id": "DuImYz1q11FR",
        "colab_type": "code",
        "colab": {}
      },
      "source": [
        "# Task 1.2\n",
        "\n",
        "Days = np.arange(1, 31)\n",
        "#print(Days)"
      ],
      "execution_count": 0,
      "outputs": []
    },
    {
      "cell_type": "code",
      "metadata": {
        "id": "wTMT01vy4CnG",
        "colab_type": "code",
        "colab": {
          "base_uri": "https://localhost:8080/",
          "height": 313
        },
        "outputId": "2e2e352f-a21e-4da1-de61-11d1d8f1cc71"
      },
      "source": [
        "# Task 1.3\n",
        "\n",
        "plt.title(\"Score vs. Days\")\n",
        "plt.xlabel(\"Scores\")\n",
        "plt.ylabel(\"Days\")\n",
        "plt.grid()\n",
        "plt.plot(Scores, Days, color = 'green' ,marker = 'o')"
      ],
      "execution_count": 44,
      "outputs": [
        {
          "output_type": "execute_result",
          "data": {
            "text/plain": [
              "[<matplotlib.lines.Line2D at 0x7ff11b1f6b70>]"
            ]
          },
          "metadata": {
            "tags": []
          },
          "execution_count": 44
        },
        {
          "output_type": "display_data",
          "data": {
            "image/png": "[encoded data removed]",
            "text/plain": [
              "<Figure size 432x288 with 1 Axes>"
            ]
          },
          "metadata": {
            "tags": [],
            "needs_background": "light"
          }
        }
      ]
    },
    {
      "cell_type": "code",
      "metadata": {
        "id": "xixZOhMY7QaI",
        "colab_type": "code",
        "colab": {
          "base_uri": "https://localhost:8080/",
          "height": 87
        },
        "outputId": "19cf05fe-5b2e-4555-d697-4b797ccc4640"
      },
      "source": [
        "# Task 1.4\n",
        "\n",
        "meanOfScore = np.mean(Scores)\n",
        "medianOfScore = np.median(Scores)\n",
        "minScore = np.min(Scores)\n",
        "maxScore = np.max(Scores)\n",
        "\n",
        "print(\"Billy’s Mean Score: \" + str(meanOfScore))\n",
        "print(\"Billy’s Median Score: \" + str(medianOfScore))\n",
        "print(\"Billy’s Min Scores: \" + str(minScore))\n",
        "print(\"Billy’s Max Scores: \" + str(maxScore))"
      ],
      "execution_count": 45,
      "outputs": [
        {
          "output_type": "stream",
          "text": [
            "Billy’s Mean Score: 333.46666666666664\n",
            "Billy’s Median Score: 330.5\n",
            "Billy’s Min Scores: 100\n",
            "Billy’s Max Scores: 605\n"
          ],
          "name": "stdout"
        }
      ]
    }
  ]
}